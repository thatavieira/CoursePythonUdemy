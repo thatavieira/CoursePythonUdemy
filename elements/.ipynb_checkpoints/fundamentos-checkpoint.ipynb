{
 "cells": [
  {
   "cell_type": "markdown",
   "id": "af17a63a",
   "metadata": {},
   "source": [
    "# primeiros exemplos"
   ]
  },
  {
   "cell_type": "code",
   "execution_count": 6,
   "id": "1e9aae01",
   "metadata": {},
   "outputs": [
    {
     "name": "stdout",
     "output_type": "stream",
     "text": [
      "first program\n"
     ]
    }
   ],
   "source": [
    "print(\"first program\")"
   ]
  },
  {
   "cell_type": "code",
   "execution_count": 7,
   "id": "9994eb9f",
   "metadata": {},
   "outputs": [
    {
     "name": "stdout",
     "output_type": "stream",
     "text": [
      "6\n",
      "12\n"
     ]
    }
   ],
   "source": [
    "print(1 + 2 + 3)\n",
    "print(3 + 4 + 5)"
   ]
  },
  {
   "cell_type": "code",
   "execution_count": null,
   "id": "d8008e39",
   "metadata": {},
   "outputs": [],
   "source": []
  }
 ],
 "metadata": {
  "kernelspec": {
   "display_name": "Python 3 (ipykernel)",
   "language": "python",
   "name": "python3"
  },
  "language_info": {
   "codemirror_mode": {
    "name": "ipython",
    "version": 3
   },
   "file_extension": ".py",
   "mimetype": "text/x-python",
   "name": "python",
   "nbconvert_exporter": "python",
   "pygments_lexer": "ipython3",
   "version": "3.9.7"
  }
 },
 "nbformat": 4,
 "nbformat_minor": 5
}
