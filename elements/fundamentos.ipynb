{
 "cells": [
  {
   "cell_type": "markdown",
   "id": "af17a63a",
   "metadata": {},
   "source": [
    "# primeiros exemplos"
   ]
  },
  {
   "cell_type": "code",
   "execution_count": 6,
   "id": "1e9aae01",
   "metadata": {},
   "outputs": [
    {
     "name": "stdout",
     "output_type": "stream",
     "text": [
      "first program\n"
     ]
    }
   ],
   "source": [
    "print(\"first program\")"
   ]
  },
  {
   "cell_type": "code",
   "execution_count": 7,
   "id": "9994eb9f",
   "metadata": {},
   "outputs": [
    {
     "name": "stdout",
     "output_type": "stream",
     "text": [
      "6\n",
      "12\n"
     ]
    }
   ],
   "source": [
    "print(1 + 2 + 3)\n",
    "print(3 + 4 + 5)"
   ]
  },
  {
   "cell_type": "markdown",
   "id": "59289553",
   "metadata": {},
   "source": [
    "# tipos basicos"
   ]
  },
  {
   "cell_type": "code",
   "execution_count": 10,
   "id": "ca41bee5",
   "metadata": {},
   "outputs": [
    {
     "name": "stdout",
     "output_type": "stream",
     "text": [
      "True\n",
      "False\n",
      "2.2\n",
      "aqui eu falo minha língua\n",
      "tambem funciona.\n"
     ]
    }
   ],
   "source": [
    "print(True)\n",
    "print(False)\n",
    "print(1.2+1)\n",
    "print(\"aqui eu falo minha língua\")\n",
    "print(\"tambem funciona.\")"
   ]
  },
  {
   "cell_type": "code",
   "execution_count": 12,
   "id": "25b0ae7e",
   "metadata": {},
   "outputs": [
    {
     "name": "stdout",
     "output_type": "stream",
     "text": [
      "voce émuitomuitomuitolegal!\n"
     ]
    }
   ],
   "source": [
    "print('voce é' + 3  *  'muito' + 'legal!')"
   ]
  },
  {
   "cell_type": "code",
   "execution_count": 13,
   "id": "5e4654a2",
   "metadata": {},
   "outputs": [],
   "source": [
    "#print(3 + '3') -> ambiguidade"
   ]
  },
  {
   "cell_type": "code",
   "execution_count": 14,
   "id": "c88333d2",
   "metadata": {},
   "outputs": [
    {
     "name": "stdout",
     "output_type": "stream",
     "text": [
      "[1, 2, 3]\n"
     ]
    }
   ],
   "source": [
    "print([1, 2, 3])"
   ]
  },
  {
   "cell_type": "code",
   "execution_count": 15,
   "id": "1fb7724d",
   "metadata": {},
   "outputs": [
    {
     "name": "stdout",
     "output_type": "stream",
     "text": [
      "{'nome': 'pedro', 'idade': 22}\n"
     ]
    }
   ],
   "source": [
    "print({'nome' : 'pedro', 'idade' : 22})"
   ]
  },
  {
   "cell_type": "code",
   "execution_count": 16,
   "id": "ace9de39",
   "metadata": {},
   "outputs": [
    {
     "name": "stdout",
     "output_type": "stream",
     "text": [
      "None\n"
     ]
    }
   ],
   "source": [
    "print(None)"
   ]
  },
  {
   "cell_type": "markdown",
   "id": "ee5efe7b",
   "metadata": {},
   "source": [
    "# variaveis"
   ]
  },
  {
   "cell_type": "code",
   "execution_count": 18,
   "id": "027b4ab5",
   "metadata": {},
   "outputs": [
    {
     "name": "stdout",
     "output_type": "stream",
     "text": [
      "15.2\n",
      "agora sou uma string\n"
     ]
    }
   ],
   "source": [
    "a = 10\n",
    "b = 5.2\n",
    "\n",
    "print(a + b)\n",
    "\n",
    "a = 'agora sou uma string'\n",
    "print(a)"
   ]
  },
  {
   "cell_type": "code",
   "execution_count": null,
   "id": "81ef877c",
   "metadata": {},
   "outputs": [],
   "source": []
  },
  {
   "cell_type": "code",
   "execution_count": null,
   "id": "ea58493f",
   "metadata": {},
   "outputs": [],
   "source": []
  },
  {
   "cell_type": "code",
   "execution_count": null,
   "id": "d7f4a796",
   "metadata": {},
   "outputs": [],
   "source": []
  },
  {
   "cell_type": "code",
   "execution_count": null,
   "id": "e2a00968",
   "metadata": {},
   "outputs": [],
   "source": []
  }
 ],
 "metadata": {
  "kernelspec": {
   "display_name": "Python 3 (ipykernel)",
   "language": "python",
   "name": "python3"
  },
  "language_info": {
   "codemirror_mode": {
    "name": "ipython",
    "version": 3
   },
   "file_extension": ".py",
   "mimetype": "text/x-python",
   "name": "python",
   "nbconvert_exporter": "python",
   "pygments_lexer": "ipython3",
   "version": "3.9.7"
  }
 },
 "nbformat": 4,
 "nbformat_minor": 5
}
